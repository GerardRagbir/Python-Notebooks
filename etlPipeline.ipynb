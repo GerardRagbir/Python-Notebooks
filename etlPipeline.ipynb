{
  "nbformat": 4,
  "nbformat_minor": 0,
  "metadata": {
    "colab": {
      "provenance": [],
      "toc_visible": true,
      "authorship_tag": "ABX9TyMs6OFtNh0ZbBIsk7d1HYMr",
      "include_colab_link": true
    },
    "kernelspec": {
      "name": "python3",
      "display_name": "Python 3"
    },
    "language_info": {
      "name": "python"
    }
  },
  "cells": [
    {
      "cell_type": "markdown",
      "metadata": {
        "id": "view-in-github",
        "colab_type": "text"
      },
      "source": [
        "<a href=\"https://colab.research.google.com/github/GerardRagbir/Python-Notebooks/blob/main/etlPipeline.ipynb\" target=\"_parent\"><img src=\"https://colab.research.google.com/assets/colab-badge.svg\" alt=\"Open In Colab\"/></a>"
      ]
    },
    {
      "cell_type": "markdown",
      "source": [
        "# ETL Pipeline"
      ],
      "metadata": {
        "id": "4uWop-Mr-KGh"
      }
    },
    {
      "cell_type": "markdown",
      "source": [
        "## Environment"
      ],
      "metadata": {
        "id": "SXgam-Y9rjWS"
      }
    },
    {
      "cell_type": "code",
      "source": [
        "'''Install python 3.11'''\n",
        "!sudo apt-get update -y # update system dependencies\n",
        "!sudo apt-get install python3.11 # update python to 3.11 (latest as of 2022-Oct)\n",
        "\n",
        "'''Install required packages'''\n",
        "!pip install sqlalchemy pyodbc pandas # required packages, modify as needed"
      ],
      "metadata": {
        "id": "aEOfvouC-WQm"
      },
      "execution_count": null,
      "outputs": []
    },
    {
      "cell_type": "markdown",
      "source": [
        "Typically you'd need to set the ENV VARIABLES to the PATH using specific methods via BASH for the OS you're on. However, since we're only concerned with Python 3.X, we'll use the following script:"
      ],
      "metadata": {
        "id": "j-F7fZA7oUi5"
      }
    },
    {
      "cell_type": "code",
      "source": [
        "# Write ENV variables to OS via a Python script such as:\n",
        "\n",
        "os.environ['PGPASS'] = 'password'\n",
        "os.environ['PGUID'] = 'etluser'\n",
        "\n",
        "\n",
        "'''Alternative for quickly setting env variables'''\n",
        "\n",
        "# %env PGPASS=password\n",
        "# %env PGUID=etluser"
      ],
      "metadata": {
        "id": "rRugWj3bpxUJ"
      },
      "execution_count": null,
      "outputs": []
    },
    {
      "cell_type": "markdown",
      "source": [
        "## Required Modules\n",
        "\n",
        "<b>Resources</b>\n",
        "\n",
        "SQL Alchemy: https://towardsdatascience.com/sqlalchemy-python-tutorial-79a577141a91\n",
        "\n",
        "PyODBC: https://learn.microsoft.com/en-us/sql/connect/python/pyodbc/python-sql-driver-pyodbc?view=sql-server-ver16\n",
        "\n",
        "Pandas: https://www.w3schools.com/python/pandas/default.asp"
      ],
      "metadata": {
        "id": "ZqqpzM-Bpx1V"
      }
    },
    {
      "cell_type": "code",
      "execution_count": 32,
      "metadata": {
        "id": "oQDhCMiY-JJD"
      },
      "outputs": [],
      "source": [
        "from sqlalchemy import create_engine\n",
        "import pyodbc as odbc\n",
        "import pandas as pd\n",
        "import os"
      ]
    },
    {
      "cell_type": "markdown",
      "source": [
        "## Get variables from OS Environment\n",
        "\n",
        "REMINDER: Never store variables within source!"
      ],
      "metadata": {
        "id": "KneCa5G9-woB"
      }
    },
    {
      "cell_type": "code",
      "source": [
        "''' \n",
        "These linked variables can be refactored directly to their methods, \n",
        "I am just separating them for explanation during live sessions!\n",
        "\n",
        "eg pwd = os.environp['PGPASS'] would give a similar result.\n",
        "'''\n",
        "\n",
        "ETLPWD = str('PGPASS')\n",
        "ETLUID = str('PGUID')\n",
        "\n",
        "pwd = os.environ[ETLPWD]\n",
        "uid = os.environ[ETLUID]"
      ],
      "metadata": {
        "id": "aHCiQtPs-9cI"
      },
      "execution_count": 33,
      "outputs": []
    },
    {
      "cell_type": "code",
      "source": [
        "'''SQL Connection'''\n",
        "driver = \"{ODBC Driver 17 for SQL Server}\" #eg ODBC Driver 17 for SQL Server\n",
        "server = \"localhost\" #use localhost if using a local machine\n",
        "database = \"#Name_of_DB_HERE\" \n",
        "port = 5432\n",
        "\n",
        "table = \"#tableName\"\n",
        "\n",
        "\n",
        "CONNECTION_PATH = f'DRIVER={driver};SERVER={server}\\SQLEXPRESS;DATABASE={database};UID={uid};PWD={pwd}'"
      ],
      "metadata": {
        "id": "P-gsm_9aCJrh"
      },
      "execution_count": 34,
      "outputs": []
    },
    {
      "cell_type": "markdown",
      "source": [
        "Refer to: https://www.connectionstrings.com/formating-rules-for-connection-strings/"
      ],
      "metadata": {
        "id": "Z05_vdWPjZtF"
      }
    },
    {
      "cell_type": "code",
      "source": [
        "QUERY = \"\"\"\n",
        "        SELECT t.name AS table_name\n",
        "        FROM sys.tables t WHERE t.name IN ('DimProduct', 'DimProductSubcategory', 'DimProductCategory', 'DimSalesTerritory', 'FactInternetSales');\n",
        "        \"\"\"\n",
        "\n",
        "def extract():\n",
        "  try:\n",
        "    src_connect = odbc.connect(CONNECTION_PATH)\n",
        "    cursor = src_connect.cursor()\n",
        "\n",
        "    #execute query\n",
        "    cursor.execute(QUERY)\n",
        "    rows = cursor.fetchall()\n",
        "\n",
        "    for row in rows:\n",
        "      df = pd.read_sql_query(f'SELECT * FROM {table[0]}', src_connect)\n",
        "      load(df, table[0])\n",
        "\n",
        "  except Exception as e:\n",
        "    print(f\"Extraction Error: {e}\")\n",
        "\n",
        "  finally:\n",
        "    src_connect.close()"
      ],
      "metadata": {
        "id": "SA_EaPbnC0Jg"
      },
      "execution_count": 35,
      "outputs": []
    },
    {
      "cell_type": "code",
      "source": [
        "def load():\n",
        "  try:\n",
        "    rows_imported = 0\n",
        "    engine = create_engine(f'postgresql://{uid}:{pwd}@{server}:{port}/{table}')\n",
        "    print(f'Importing rows: {rows_imported} to {rows_imported+len(df)} ... for table {table}')\n",
        "\n",
        "    #commit dataframe to database (postgresql here)\n",
        "    df.to_sql(f'stg_{table}', engine, if_exists='replace', index=False)\n",
        "    rows_imported += len(df)\n",
        "    print(\"Data imported successfully!\")\n",
        "  except Exception as e:\n",
        "    print(f\"Load Error: {e}\")\n"
      ],
      "metadata": {
        "id": "H2BEjisdFpar"
      },
      "execution_count": 36,
      "outputs": []
    },
    {
      "cell_type": "markdown",
      "source": [
        "## Run ETL"
      ],
      "metadata": {
        "id": "Tb6knZhwmhiX"
      }
    },
    {
      "cell_type": "code",
      "source": [
        "try:\n",
        "  extract()\n",
        "except Exception as e:\n",
        "  print(f\"Error during ETL: {e}\")"
      ],
      "metadata": {
        "id": "kqU1SFGpmfI2"
      },
      "execution_count": null,
      "outputs": []
    }
  ]
}